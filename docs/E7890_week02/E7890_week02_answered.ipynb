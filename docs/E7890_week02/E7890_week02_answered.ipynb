{
 "cells": [
  {
   "cell_type": "markdown",
   "metadata": {},
   "source": [
    "## A. Basics of inferential statistics\n"
   ]
  },
  {
   "cell_type": "code",
   "execution_count": 14,
   "metadata": {},
   "outputs": [],
   "source": [
    "import pandas as pd\n",
    "from scipy import stats\n",
    "import numpy as np\n",
    "import matplotlib.pyplot as plt\n",
    "import seaborn as sns\n",
    "from math import sqrt"
   ]
  },
  {
   "cell_type": "code",
   "execution_count": 15,
   "metadata": {},
   "outputs": [
    {
     "name": "stdout",
     "output_type": "stream",
     "text": [
      "-------------------\n",
      "YOUNG\n",
      "      sentence  n_letters  trialtime  error_percent  backspaces       cps\n",
      "id                                                                       \n",
      "101  25.500000  17.820000    9350.04       0.004851    2.680000  2.084664\n",
      "102  26.088889  17.755556    6890.20       0.499302    0.777778  2.895769\n",
      "103  25.500000  17.820000    9656.74       0.000000    3.220000  2.037604\n",
      "104  25.500000  17.820000    5687.94       0.000000    1.400000  3.428032\n",
      "105  25.500000  17.820000    6811.36       0.001111    1.000000  2.779482\n",
      "-------------------\n",
      "OLD\n",
      "      sentence  n_letters     trialtime  error_percent  backspaces       cps\n",
      "id                                                                          \n",
      "201  25.500000  17.820000  11610.460000       0.004968    0.260000  1.595285\n",
      "202  25.306122  17.938776  12221.857143       0.006708    1.448980  1.694431\n",
      "203  24.153846  17.846154  64599.461538       0.896754    5.076923  0.423317\n",
      "204  25.500000  17.820000  23328.540000       0.005859    2.240000  0.831908\n",
      "205  29.583333  18.000000  56718.083333       0.263047    4.750000  0.364249\n"
     ]
    }
   ],
   "source": [
    "'''\n",
    "BY MEAN CPS\n",
    "'''\n",
    "\n",
    "df_t = pd.read_csv('data/smartphone-typing.csv')\n",
    "df_t['cps'] = df_t['n_letters'] / (df_t['trialtime'] / 1000)\n",
    "\n",
    "df_young = df_t[df_t['age_group'] == 'young']\n",
    "df_old = df_t[df_t['age_group'] == 'old']\n",
    "\n",
    "df_id_young = df_young.groupby('id').mean()\n",
    "df_id_old = df_old.groupby('id').mean()\n",
    "\n",
    "d = {'young': 0, 'old': 1}\n",
    "df_t['age_group_mapped'] = df_t['age_group'].map(d)\n",
    "\n",
    "print (\"-------------------\")\n",
    "print ('YOUNG')\n",
    "print (df_id_young.head())\n",
    "print (\"-------------------\")\n",
    "print ('OLD')\n",
    "print (df_id_old.head())"
   ]
  },
  {
   "cell_type": "code",
   "execution_count": 3,
   "metadata": {},
   "outputs": [
    {
     "name": "stdout",
     "output_type": "stream",
     "text": [
      "-------------------\n",
      "YOUNG\n",
      "    id age_group  sentence  n_letters  trialtime  error_percent  backspaces  \\\n",
      "0  101     young         1         19      13696       0.052632           9   \n",
      "1  101     young         2         18      11080       0.000000           4   \n",
      "2  101     young         3         15       7774       0.000000           1   \n",
      "3  101     young         4         19      11943       0.000000           5   \n",
      "4  101     young         5         13       5169       0.000000           0   \n",
      "\n",
      "        cps  \n",
      "0  1.387266  \n",
      "1  1.624549  \n",
      "2  1.929509  \n",
      "3  1.590890  \n",
      "4  2.514993  \n",
      "-------------------\n",
      "OLD\n",
      "      id age_group  sentence  n_letters  trialtime  error_percent  backspaces  \\\n",
      "625  201       old         1         19      12020            0.0           0   \n",
      "626  201       old         2         18      13297            0.0           0   \n",
      "627  201       old         3         15       9156            0.0           0   \n",
      "628  201       old         4         19      11356            0.0           0   \n",
      "629  201       old         5         13      10437            0.0           2   \n",
      "\n",
      "          cps  \n",
      "625  1.580699  \n",
      "626  1.353689  \n",
      "627  1.638270  \n",
      "628  1.673124  \n",
      "629  1.245569  \n"
     ]
    }
   ],
   "source": [
    "'''\n",
    "BY CPS\n",
    "'''\n",
    "\n",
    "df_t = pd.read_csv('data/smartphone-typing.csv')\n",
    "df_t['cps'] = df_t['n_letters'] / (df_t['trialtime'] / 1000)\n",
    "\n",
    "df_young = df_t[df_t['age_group'] == 'young']\n",
    "df_old = df_t[df_t['age_group'] == 'old']\n",
    "\n",
    "print (\"-------------------\")\n",
    "print ('YOUNG')\n",
    "print (df_young.head())\n",
    "print (\"-------------------\")\n",
    "print ('OLD')\n",
    "print (df_old.head())"
   ]
  },
  {
   "cell_type": "markdown",
   "metadata": {},
   "source": [
    "1. Conduct a hypothesis test with the hypothesis that mean CPS is different between the age groups using a t-test. Report the hypothesis, the null hypothesis, and the test statistics (t and p values). Specify which t-test you chose and why. What (valid) inference can you make based on the result of the statistical test? Note that you may have to run additional tests in order to answer the last question. (3p)\n",
    "\n",
    "    - **Hypothesis + null hypothesis (1p)**\n",
    "    - **Test statistics (1p)**\n",
    "    - **Some valid inference, including additional tests (1p)**"
   ]
  },
  {
   "cell_type": "code",
   "execution_count": 16,
   "metadata": {},
   "outputs": [
    {
     "name": "stdout",
     "output_type": "stream",
     "text": [
      "test statistic: 8.722553664271569, p-value: 4.00175102215898e-08\n"
     ]
    }
   ],
   "source": [
    "'''\n",
    "BY MEAN CPS\n",
    "'''\n",
    "\n",
    "x1=df_id_young['cps']\n",
    "x2=df_id_old['cps']\n",
    "\n",
    "u,p = stats.ttest_ind(x1, x2, equal_var=False)\n",
    "print ('test statistic: {}, p-value: {}'.format(u,p))"
   ]
  },
  {
   "cell_type": "code",
   "execution_count": 17,
   "metadata": {},
   "outputs": [
    {
     "name": "stdout",
     "output_type": "stream",
     "text": [
      "test statistic: 27.550281982397763, p-value: 1.852876668781571e-121\n"
     ]
    }
   ],
   "source": [
    "'''\n",
    "BY CPS\n",
    "'''\n",
    "\n",
    "x1=df_young['cps']\n",
    "x2=df_old['cps']\n",
    "\n",
    "u,p = stats.ttest_ind(x1, x2, equal_var=False)\n",
    "print ('test statistic: {}, p-value: {}'.format(u,p))"
   ]
  },
  {
   "cell_type": "code",
   "execution_count": 6,
   "metadata": {},
   "outputs": [
    {
     "name": "stdout",
     "output_type": "stream",
     "text": [
      "NORMAL TEST: 0.9180820906358115, p-value: 0.6318893082696717\n",
      "NORMAL TEST: 1.9094733639177162, p-value: 0.3849134858750034\n",
      "LEVENE: 0.10941902533744279, p-value: 0.7439363258180747\n"
     ]
    },
    {
     "name": "stderr",
     "output_type": "stream",
     "text": [
      "/Users/ainiputkonen/Library/Python/3.7/lib/python/site-packages/scipy/stats/stats.py:1535: UserWarning: kurtosistest only valid for n>=20 ... continuing anyway, n=14\n",
      "  \"anyway, n=%i\" % int(n))\n",
      "/Users/ainiputkonen/Library/Python/3.7/lib/python/site-packages/scipy/stats/stats.py:1535: UserWarning: kurtosistest only valid for n>=20 ... continuing anyway, n=10\n",
      "  \"anyway, n=%i\" % int(n))\n"
     ]
    }
   ],
   "source": [
    "'''\n",
    "BY MEAN CPS\n",
    "'''\n",
    "\n",
    "x1=df_id_young['cps']\n",
    "x2=df_id_old['cps']\n",
    "\n",
    "u,p = stats.normaltest(x1)\n",
    "print ('NORMAL TEST: {}, p-value: {}'.format(u,p))\n",
    "\n",
    "u,p = stats.normaltest(x2)\n",
    "print ('NORMAL TEST: {}, p-value: {}'.format(u,p))\n",
    "\n",
    "u,p = stats.levene(x1, x2)\n",
    "print ('LEVENE: {}, p-value: {}'.format(u,p))"
   ]
  },
  {
   "cell_type": "code",
   "execution_count": 7,
   "metadata": {},
   "outputs": [
    {
     "name": "stdout",
     "output_type": "stream",
     "text": [
      "NORMAL TEST: 870.9085880074934, p-value: 7.666603323861974e-190\n",
      "NORMAL TEST: 57.92327734294525, p-value: 2.6431398232293453e-13\n",
      "LEVENE: 32.52136190703034, p-value: 1.548968243533193e-08\n"
     ]
    }
   ],
   "source": [
    "'''\n",
    "BY CPS\n",
    "'''\n",
    "\n",
    "x1=df_young['cps']\n",
    "x2=df_old['cps']\n",
    "\n",
    "u,p = stats.normaltest(x1)\n",
    "print ('NORMAL TEST: {}, p-value: {}'.format(u,p))\n",
    "\n",
    "u,p = stats.normaltest(x2)\n",
    "print ('NORMAL TEST: {}, p-value: {}'.format(u,p))\n",
    "\n",
    "u,p = stats.levene(x1, x2)\n",
    "print ('LEVENE: {}, p-value: {}'.format(u,p))"
   ]
  },
  {
   "cell_type": "markdown",
   "metadata": {},
   "source": [
    "2. Conduct the same analysis as in (1) using a rank dependent test. What (valid) inference can you make based on the result of the statistical test? (2p)\n",
    "\n",
    "    - **Correct test statistics (1p)**\n",
    "    - **Some valid inference (1p)**\n",
    "        - Note that if you use the participant specific average CPS, the condition 'number of observation in each sample is > 20' is not fulfilled"
   ]
  },
  {
   "cell_type": "code",
   "execution_count": 8,
   "metadata": {},
   "outputs": [
    {
     "name": "stdout",
     "output_type": "stream",
     "text": [
      "test statistic: 140.0, p-value: 4.711347153516151e-05\n"
     ]
    }
   ],
   "source": [
    "'''\n",
    "BY MEAN CPS\n",
    "'''\n",
    "\n",
    "x1=df_id_young['cps']\n",
    "x2=df_id_old['cps']\n",
    "\n",
    "u, p = stats.mannwhitneyu(x1, x2, alternative='two-sided')\n",
    "print ('test statistic: {}, p-value: {}'.format(u,p))"
   ]
  },
  {
   "cell_type": "code",
   "execution_count": 9,
   "metadata": {},
   "outputs": [
    {
     "name": "stdout",
     "output_type": "stream",
     "text": [
      "test statistic: 225296.5, p-value: 1.5932413559264853e-122\n"
     ]
    }
   ],
   "source": [
    "'''\n",
    "BY CPS\n",
    "'''\n",
    "\n",
    "x1=df_young['cps']\n",
    "x2=df_old['cps']\n",
    "\n",
    "u, p = stats.mannwhitneyu(x1, x2, alternative='two-sided')\n",
    "print ('test statistic: {}, p-value: {}'.format(u,p))"
   ]
  },
  {
   "cell_type": "markdown",
   "metadata": {},
   "source": [
    "## B. Play with samples\n",
    "\n",
    "1. Generate an artificial data set A coming from a normally distributed pop- ulation with μ = 100 and σ = 20. Draw 1000 samples of size N = 100 (note the difference between sample size and number of samples). Plot a histogram of three of those 1000 samples. (1p)\n",
    "\n",
    "    - **Sample drawn correctly (0.5p)**\n",
    "    - **Plot (0.5p)**"
   ]
  },
  {
   "cell_type": "code",
   "execution_count": 10,
   "metadata": {},
   "outputs": [
    {
     "data": {
      "image/png": "[encoded data removed]",
      "text/plain": [
       "<Figure size 432x288 with 3 Axes>"
      ]
     },
     "metadata": {
      "needs_background": "light"
     },
     "output_type": "display_data"
    }
   ],
   "source": [
    "np.random.seed(500)\n",
    "\n",
    "n_sample = 1000\n",
    "N = 100\n",
    "\n",
    "mu1 = 100\n",
    "sigma = 20 \n",
    "\n",
    "data1 = np.random.normal(mu1, scale=sigma, size=(n_sample, N))\n",
    "\n",
    "n_to_view = 3\n",
    "\n",
    "fig, axes = plt.subplots(ncols=n_to_view)\n",
    "for i, x in enumerate(data1[:n_to_view]):\n",
    "    sns.histplot(x, ax=axes[i], stat=\"density\", color=\"C0\")\n",
    "\n",
    "plt.tight_layout()\n",
    "plt.show()"
   ]
  },
  {
   "cell_type": "markdown",
   "metadata": {},
   "source": [
    "2. Generate another artificial data set B coming from a normally distributed population with μ = 110 and σ = 20 (i.e. different mean but same stan- dard deviation). Draw 1000 samples of size N = 100. Plot a histogram of three of those 1000 samples. (1p)\n",
    "\n",
    "    - **Sample drawn correctly (0.5p)**\n",
    "    - **Plot (0.5p)**"
   ]
  },
  {
   "cell_type": "code",
   "execution_count": 11,
   "metadata": {},
   "outputs": [
    {
     "data": {
      "image/png": "[encoded data removed]",
      "text/plain": [
       "<Figure size 432x288 with 3 Axes>"
      ]
     },
     "metadata": {
      "needs_background": "light"
     },
     "output_type": "display_data"
    }
   ],
   "source": [
    "n_sample = 1000\n",
    "N = 100\n",
    "\n",
    "mu2 = 110\n",
    "sigma = 20 \n",
    "\n",
    "data2 = np.random.normal(mu2, scale=sigma, size=(n_sample, N))\n",
    "\n",
    "n_to_view = 3\n",
    "\n",
    "fig, axes = plt.subplots(ncols=n_to_view)\n",
    "for i, x in enumerate(data1[:n_to_view]):\n",
    "    sns.histplot(x, ax=axes[i], stat=\"density\", color=\"C1\")\n",
    "\n",
    "plt.tight_layout()\n",
    "plt.show()"
   ]
  },
  {
   "cell_type": "markdown",
   "metadata": {},
   "source": [
    "3. Plot the distribution of the sample mean values from each data set using two histograms (one for A, one for B) in one figure. (2p)\n",
    "\n",
    "    - **Correct understanding of sample mean (1p)**\n",
    "    - **Plot (1p)**"
   ]
  },
  {
   "cell_type": "code",
   "execution_count": 12,
   "metadata": {},
   "outputs": [
    {
     "data": {
      "image/png": "[encoded data removed]",
      "text/plain": [
       "<Figure size 432x288 with 1 Axes>"
      ]
     },
     "metadata": {
      "needs_background": "light"
     },
     "output_type": "display_data"
    }
   ],
   "source": [
    "mean_data1 = np.mean(data1, axis = 1)\n",
    "mean_data2 = np.mean(data2, axis=1)\n",
    "\n",
    "fig, ax = plt.subplots()\n",
    "\n",
    "sns.histplot(mean_data1, ax=ax, stat=\"density\", color=\"C0\", alpha=0.5)\n",
    "sns.histplot(mean_data2, ax=ax, stat=\"density\", color=\"C1\", alpha=0.5)\n",
    "\n",
    "ax.axvline(mu1, color=\"C0\", lw=2)\n",
    "ax.axvline(mu2, color=\"C1\", lw=2)\n",
    "\n",
    "plt.show()"
   ]
  },
  {
   "cell_type": "markdown",
   "metadata": {},
   "source": [
    "4. Take the two artificial data sets you generated in (1) and (2). Compare one by one each pair of sample using a Student t-test (take the first sample of A and compare it with the first sample of B; take the second sample of A and compare it with the second sample of B;, etc.). What is the percentage of false negatives? (2p)\n",
    "\n",
    "    - **Correct use of student t-test (1p)**\n",
    "    - **Correct percentage (1p)**"
   ]
  },
  {
   "cell_type": "code",
   "execution_count": 13,
   "metadata": {},
   "outputs": [
    {
     "name": "stdout",
     "output_type": "stream",
     "text": [
      "0.056\n",
      "5.6000000000000005%\n"
     ]
    }
   ],
   "source": [
    "threshold = 0.05\n",
    "\n",
    "results = []\n",
    "\n",
    "for d1, d2 in zip(data1, data2):\n",
    "    t, p = stats.ttest_ind(d1, d2, equal_var=True)\n",
    "    results.append(p > 0.05)\n",
    "   \n",
    "count = 0\n",
    "for result in results:\n",
    "    if result == True:\n",
    "        count +=1\n",
    "print (count/1000)\n",
    "print(f\"{np.mean(results) * 100}%\")"
   ]
  },
  {
   "cell_type": "code",
   "execution_count": null,
   "metadata": {},
   "outputs": [],
   "source": []
  },
  {
   "cell_type": "code",
   "execution_count": null,
   "metadata": {},
   "outputs": [],
   "source": []
  }
 ],
 "metadata": {
  "kernelspec": {
   "display_name": "Python 3",
   "language": "python",
   "name": "python3"
  },
  "language_info": {
   "codemirror_mode": {
    "name": "ipython",
    "version": 3
   },
   "file_extension": ".py",
   "mimetype": "text/x-python",
   "name": "python",
   "nbconvert_exporter": "python",
   "pygments_lexer": "ipython3",
   "version": "3.9.6"
  }
 },
 "nbformat": 4,
 "nbformat_minor": 4
}
