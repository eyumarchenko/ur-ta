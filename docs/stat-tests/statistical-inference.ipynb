{
 "cells": [
  {
   "cell_type": "code",
   "execution_count": 89,
   "id": "0f9b90ac",
   "metadata": {},
   "outputs": [],
   "source": [
    "import numpy as np\n",
    "import pandas as pd\n",
    "import seaborn as sns\n",
    "\n",
    "# statistical calculations\n",
    "import scipy.stats as stats"
   ]
  },
  {
   "cell_type": "code",
   "execution_count": 90,
   "id": "5b14f80b",
   "metadata": {},
   "outputs": [
    {
     "name": "stdout",
     "output_type": "stream",
     "text": [
      "data1 (3 first values): [0.079743   0.1001085  0.02233009]\n",
      "data2 (3 first values): [0.48190481 0.46384746 0.50741647]\n"
     ]
    }
   ],
   "source": [
    "# data set 1\n",
    "a, b = 2, 5\n",
    "n = 100\n",
    "np.random.seed(123)\n",
    "data1 = np.random.beta(a, b, size=n)\n",
    "print(\"data1 (3 first values):\", data1[:3])\n",
    "\n",
    "# data set 2\n",
    "a, b = 10, 5\n",
    "n = 100\n",
    "np.random.seed(123)\n",
    "data2 = np.random.beta(a, b, size=n)\n",
    "print(\"data2 (3 first values):\", data2[:3])"
   ]
  },
  {
   "cell_type": "markdown",
   "id": "d08639bf",
   "metadata": {},
   "source": [
    "# statistical calculations"
   ]
  },
  {
   "cell_type": "markdown",
   "id": "79cb9b52",
   "metadata": {},
   "source": [
    "`SciPy` is a collection of mathematical algorithms and convenience functions. With its help, it is possible to see, for example, the structure within the data. Lets check the normality of the generated data sets. To do this, we will use `stats.normaltest(data)` function. If data is distributed normally, its distribution should have a bell shape:"
   ]
  },
  {
   "cell_type": "markdown",
   "id": "6c4d1766",
   "metadata": {},
   "source": [
    "<img src=\"https://cdn.scribbr.com/wp-content/uploads/2020/10/standard-normal-distribution-1024x633.png\" alt=\"drawing\" width=\"400\"/>"
   ]
  },
  {
   "cell_type": "markdown",
   "id": "38c19c80",
   "metadata": {},
   "source": [
    "Performing the D’Agostino and Pearson’s test, we test the null hypothesis that a sample comes from a normal distribution. We can try to reject it by looking at the p-value which is a measure of the probability that an observed difference could have occurred just by random chance."
   ]
  },
  {
   "cell_type": "code",
   "execution_count": 91,
   "id": "9050f7b0",
   "metadata": {},
   "outputs": [
    {
     "name": "stdout",
     "output_type": "stream",
     "text": [
      "----- DATA 1 -----\n",
      "k=8.073871217619669, p=0.01765148066399961\n"
     ]
    }
   ],
   "source": [
    "print ('----- DATA 1 -----')\n",
    "# Run the  D’Agostino and Pearson’s test for sample x1\n",
    "k, p = stats.normaltest(data1)\n",
    "# Print the result\n",
    "print(f\"k={k}, p={p}\")"
   ]
  },
  {
   "cell_type": "markdown",
   "id": "d9fbd60f",
   "metadata": {},
   "source": [
    "To understand whether we can reject the null hypothesis we compare p-value with $\\alpha$ equalled to 0.05."
   ]
  },
  {
   "cell_type": "code",
   "execution_count": 92,
   "id": "195e44e8",
   "metadata": {},
   "outputs": [
    {
     "name": "stdout",
     "output_type": "stream",
     "text": [
      "The null hypothesis can be rejected\n"
     ]
    }
   ],
   "source": [
    "alpha = 0.05\n",
    "\n",
    "if p < alpha:  # null hypothesis: x comes from a normal distribution\n",
    "    print(\"The null hypothesis can be rejected\")\n",
    "else:\n",
    "    print(\"The null hypothesis cannot be rejected\")"
   ]
  },
  {
   "cell_type": "markdown",
   "id": "ff6f1f79",
   "metadata": {},
   "source": [
    "Now we can do the same thing with the second data set."
   ]
  },
  {
   "cell_type": "code",
   "execution_count": 93,
   "id": "a4451a07",
   "metadata": {},
   "outputs": [
    {
     "name": "stdout",
     "output_type": "stream",
     "text": [
      "----- DATA 2 -----\n",
      "k=12.63024082162971, p=0.0018087479546733938\n",
      "The null hypothesis can be rejected\n"
     ]
    }
   ],
   "source": [
    "print ('----- DATA 2 -----')\n",
    "# Run the  D’Agostino and Pearson’s test for sample x1\n",
    "k, p = stats.normaltest(data2)\n",
    "# Print the result\n",
    "print(f\"k={k}, p={p}\")\n",
    "\n",
    "alpha = 0.05\n",
    "\n",
    "if p < alpha:  # null hypothesis: x comes from a normal distribution\n",
    "    print(\"The null hypothesis can be rejected\")\n",
    "else:\n",
    "    print(\"The null hypothesis cannot be rejected\")"
   ]
  },
  {
   "cell_type": "markdown",
   "id": "17b13285",
   "metadata": {},
   "source": [
    "More info on statistical computing: https://docs.scipy.org/doc/scipy/tutorial/index.html"
   ]
  },
  {
   "cell_type": "markdown",
   "id": "e7749097",
   "metadata": {},
   "source": [
    "# practical example (t-test)"
   ]
  },
  {
   "cell_type": "code",
   "execution_count": 8,
   "id": "d3cf05ba",
   "metadata": {},
   "outputs": [],
   "source": [
    "data = pd.read_csv(\"housing.csv\")\n",
    "housing = pd.read_csv(\"housing.csv\")"
   ]
  },
  {
   "cell_type": "code",
   "execution_count": 7,
   "id": "726dc45e",
   "metadata": {},
   "outputs": [
    {
     "data": {
      "text/plain": [
       "Index(['Id', 'MSSubClass', 'MSZoning', 'LotFrontage', 'LotArea', 'Street',\n",
       "       'Alley', 'LotShape', 'LandContour', 'Utilities', 'LotConfig',\n",
       "       'LandSlope', 'Neighborhood', 'Condition1', 'Condition2', 'BldgType',\n",
       "       'HouseStyle', 'OverallQual', 'OverallCond', 'YearBuilt', 'YearRemodAdd',\n",
       "       'RoofStyle', 'RoofMatl', 'Exterior1st', 'Exterior2nd', 'MasVnrType',\n",
       "       'MasVnrArea', 'ExterQual', 'ExterCond', 'Foundation', 'BsmtQual',\n",
       "       'BsmtCond', 'BsmtExposure', 'BsmtFinType1', 'BsmtFinSF1',\n",
       "       'BsmtFinType2', 'BsmtFinSF2', 'BsmtUnfSF', 'TotalBsmtSF', 'Heating',\n",
       "       'HeatingQC', 'CentralAir', 'Electrical', '1stFlrSF', '2ndFlrSF',\n",
       "       'LowQualFinSF', 'GrLivArea', 'BsmtFullBath', 'BsmtHalfBath', 'FullBath',\n",
       "       'HalfBath', 'BedroomAbvGr', 'KitchenAbvGr', 'KitchenQual',\n",
       "       'TotRmsAbvGrd', 'Functional', 'Fireplaces', 'FireplaceQu', 'GarageType',\n",
       "       'GarageYrBlt', 'GarageFinish', 'GarageCars', 'GarageArea', 'GarageQual',\n",
       "       'GarageCond', 'PavedDrive', 'WoodDeckSF', 'OpenPorchSF',\n",
       "       'EnclosedPorch', '3SsnPorch', 'ScreenPorch', 'PoolArea', 'PoolQC',\n",
       "       'Fence', 'MiscFeature', 'MiscVal', 'MoSold', 'YrSold', 'SaleType',\n",
       "       'SaleCondition', 'SalePrice'],\n",
       "      dtype='object')"
      ]
     },
     "execution_count": 7,
     "metadata": {},
     "output_type": "execute_result"
    }
   ],
   "source": [
    "data.columns"
   ]
  },
  {
   "cell_type": "markdown",
   "id": "45813ae6",
   "metadata": {},
   "source": [
    "Let's select a couple of columns to work with. We can check whether there is a connection between the space of the apts and their price.\n",
    "\n",
    "$H_0:$ there is no difference in prices of big and small apts, and  \n",
    "$H_1:$ there is difference in prices of big and small apts."
   ]
  },
  {
   "cell_type": "code",
   "execution_count": 9,
   "id": "00d97e13",
   "metadata": {},
   "outputs": [],
   "source": [
    "housing = housing[['Id', 'LotArea', 'SalePrice']]"
   ]
  },
  {
   "cell_type": "markdown",
   "id": "1c9552ba",
   "metadata": {},
   "source": [
    "Split `LotArea` into two categories (because we do need them)"
   ]
  },
  {
   "cell_type": "code",
   "execution_count": 15,
   "id": "7fcd31a3",
   "metadata": {},
   "outputs": [],
   "source": [
    "housing['Lot10000'] = np.where(housing['LotArea'] >= 10000, '>= 10k','< 10k')"
   ]
  },
  {
   "cell_type": "markdown",
   "id": "e2824bec",
   "metadata": {},
   "source": [
    "Now let's look at the assumptions which are:  \n",
    "* equal sizes of samples \n",
    "* normally distributed samples\n",
    "* equal vairances \n",
    "\n",
    "\n",
    "First, sample size."
   ]
  },
  {
   "cell_type": "code",
   "execution_count": 12,
   "id": "25d280c0",
   "metadata": {},
   "outputs": [
    {
     "data": {
      "text/plain": [
       "< 10k     837\n",
       ">= 10k    623\n",
       "Name: Lot10000, dtype: int64"
      ]
     },
     "execution_count": 12,
     "metadata": {},
     "output_type": "execute_result"
    }
   ],
   "source": [
    "housing['Lot10000'].value_counts()"
   ]
  },
  {
   "cell_type": "markdown",
   "id": "42d0362a",
   "metadata": {},
   "source": [
    "Not the best but it is possible to work with. Now we can check the normality, important to look at the prices separately."
   ]
  },
  {
   "cell_type": "code",
   "execution_count": 23,
   "id": "1b92e0cb",
   "metadata": {},
   "outputs": [
    {
     "data": {
      "text/plain": [
       "<AxesSubplot:xlabel='SalePrice', ylabel='Count'>"
      ]
     },
     "execution_count": 23,
     "metadata": {},
     "output_type": "execute_result"
    },
    {
     "data": {
      "image/png": "[encoded data removed]",
      "text/plain": [
       "<Figure size 432x288 with 1 Axes>"
      ]
     },
     "metadata": {
      "needs_background": "light"
     },
     "output_type": "display_data"
    }
   ],
   "source": [
    "sns.histplot(data=housing, x=\"SalePrice\", hue=\"Lot10000\", element=\"step\")"
   ]
  },
  {
   "cell_type": "markdown",
   "id": "63a35a16",
   "metadata": {},
   "source": [
    "And use the normaility test."
   ]
  },
  {
   "cell_type": "code",
   "execution_count": 28,
   "id": "9f060423",
   "metadata": {},
   "outputs": [
    {
     "name": "stdout",
     "output_type": "stream",
     "text": [
      "k=187.55716472897922, p=1.8727472085191523e-41\n"
     ]
    }
   ],
   "source": [
    "k, p = stats.normaltest(housing[housing['Lot10000'] == '< 10k']['SalePrice'])\n",
    "print(f\"k={k}, p={p}\")"
   ]
  },
  {
   "cell_type": "code",
   "execution_count": 29,
   "id": "b1f2360d",
   "metadata": {},
   "outputs": [
    {
     "name": "stdout",
     "output_type": "stream",
     "text": [
      "k=228.40224118963133, p=2.529784332125132e-50\n"
     ]
    }
   ],
   "source": [
    "k, p = stats.normaltest(housing[housing['Lot10000'] == '>= 10k']['SalePrice'])\n",
    "print(f\"k={k}, p={p}\")"
   ]
  },
  {
   "cell_type": "markdown",
   "id": "1c5fd8fb",
   "metadata": {},
   "source": [
    "As the p-value is really small, we can say that the distribution is not normal.  \n",
    "\n",
    "Finally, we look at the variances."
   ]
  },
  {
   "cell_type": "code",
   "execution_count": 33,
   "id": "44b6a6fa",
   "metadata": {},
   "outputs": [
    {
     "name": "stdout",
     "output_type": "stream",
     "text": [
      "k=94.46902054979866, p=1.1140065967298026e-21\n"
     ]
    }
   ],
   "source": [
    "# Run the Levene test\n",
    "stat, p = stats.levene(housing[housing['Lot10000'] == '< 10k']['SalePrice'], housing[housing['Lot10000'] == '>= 10k']['SalePrice'])\n",
    "\n",
    "# Print the result\n",
    "print(f\"k={stat}, p={p}\")"
   ]
  },
  {
   "cell_type": "markdown",
   "id": "74f68515",
   "metadata": {},
   "source": [
    "The problem is we can reject the hypothesis we wouldn't like to reject. Therefore, we cannot use the t-test with this case. Let's try and split our data a bit differently and see if it changes anything."
   ]
  },
  {
   "cell_type": "code",
   "execution_count": 53,
   "id": "052615a3",
   "metadata": {},
   "outputs": [],
   "source": [
    "housing['Lot9k'] = np.where(housing['LotArea'] >= 9500, '>= 9.5k','< 9.5k')"
   ]
  },
  {
   "cell_type": "code",
   "execution_count": 54,
   "id": "6a224a5b",
   "metadata": {},
   "outputs": [
    {
     "data": {
      "text/plain": [
       "< 9.5k     733\n",
       ">= 9.5k    727\n",
       "Name: Lot9k, dtype: int64"
      ]
     },
     "execution_count": 54,
     "metadata": {},
     "output_type": "execute_result"
    }
   ],
   "source": [
    "housing['Lot9k'].value_counts()"
   ]
  },
  {
   "cell_type": "code",
   "execution_count": 55,
   "id": "511c07b8",
   "metadata": {},
   "outputs": [
    {
     "data": {
      "text/plain": [
       "<AxesSubplot:xlabel='SalePrice', ylabel='Count'>"
      ]
     },
     "execution_count": 55,
     "metadata": {},
     "output_type": "execute_result"
    },
    {
     "data": {
      "image/png": "[encoded data removed]",
      "text/plain": [
       "<Figure size 432x288 with 1 Axes>"
      ]
     },
     "metadata": {
      "needs_background": "light"
     },
     "output_type": "display_data"
    }
   ],
   "source": [
    "sns.histplot(data=housing, x=\"SalePrice\", hue=\"Lot9k\", element=\"step\")"
   ]
  },
  {
   "cell_type": "code",
   "execution_count": 58,
   "id": "f25238c2",
   "metadata": {},
   "outputs": [
    {
     "name": "stdout",
     "output_type": "stream",
     "text": [
      "k=154.25200661289847, p=3.1959674886773177e-34\n"
     ]
    }
   ],
   "source": [
    "k, p = stats.normaltest(housing[housing['Lot9k'] == '< 9.5k']['SalePrice'])\n",
    "print(f\"k={k}, p={p}\")"
   ]
  },
  {
   "cell_type": "code",
   "execution_count": 59,
   "id": "be651417",
   "metadata": {},
   "outputs": [
    {
     "name": "stdout",
     "output_type": "stream",
     "text": [
      "k=271.73514601990087, p=9.850601996301897e-60\n"
     ]
    }
   ],
   "source": [
    "k, p = stats.normaltest(housing[housing['Lot9k'] == '>= 9.5k']['SalePrice'])\n",
    "print(f\"k={k}, p={p}\")"
   ]
  },
  {
   "cell_type": "code",
   "execution_count": 61,
   "id": "7c85a8de",
   "metadata": {},
   "outputs": [
    {
     "name": "stdout",
     "output_type": "stream",
     "text": [
      "k=87.94978604995664, p=2.4743939075747325e-20\n"
     ]
    }
   ],
   "source": [
    "# Run the Levene test\n",
    "stat, p = stats.levene(housing[housing['Lot9k'] == '< 9.5k']['SalePrice'], housing[housing['Lot9k'] == '>= 9.5k']['SalePrice'])\n",
    "print(f\"k={stat}, p={p}\")"
   ]
  },
  {
   "cell_type": "markdown",
   "id": "1d0e2ec1",
   "metadata": {},
   "source": [
    "So, we really can't run the t-test here, and sometimes this happens! Let's try some other data :)"
   ]
  },
  {
   "cell_type": "markdown",
   "id": "d1e0e67e",
   "metadata": {},
   "source": [
    "# students data (t test again)"
   ]
  },
  {
   "cell_type": "code",
   "execution_count": 68,
   "id": "ac3ba10d",
   "metadata": {},
   "outputs": [],
   "source": [
    "students = pd.read_csv(\"student-mat.csv\")"
   ]
  },
  {
   "cell_type": "markdown",
   "id": "7499073d",
   "metadata": {},
   "source": [
    "We take gender and final grade so:  \n",
    "$H_0:$ there is no difference in girls and boys grades, and  \n",
    "$H_1:$ boys and girls receive different grades."
   ]
  },
  {
   "cell_type": "code",
   "execution_count": 69,
   "id": "5b2a063d",
   "metadata": {},
   "outputs": [],
   "source": [
    "df = students[['sex', 'G3']]"
   ]
  },
  {
   "cell_type": "markdown",
   "id": "09cd379c",
   "metadata": {},
   "source": [
    "Assumptions again :)"
   ]
  },
  {
   "cell_type": "code",
   "execution_count": 72,
   "id": "b005f629",
   "metadata": {},
   "outputs": [
    {
     "data": {
      "text/plain": [
       "F    208\n",
       "M    187\n",
       "Name: sex, dtype: int64"
      ]
     },
     "execution_count": 72,
     "metadata": {},
     "output_type": "execute_result"
    }
   ],
   "source": [
    "df['sex'].value_counts()"
   ]
  },
  {
   "cell_type": "code",
   "execution_count": 73,
   "id": "4659756a",
   "metadata": {},
   "outputs": [
    {
     "data": {
      "text/plain": [
       "<AxesSubplot:xlabel='G3', ylabel='Count'>"
      ]
     },
     "execution_count": 73,
     "metadata": {},
     "output_type": "execute_result"
    },
    {
     "data": {
      "image/png": "[encoded data removed]",
      "text/plain": [
       "<Figure size 432x288 with 1 Axes>"
      ]
     },
     "metadata": {
      "needs_background": "light"
     },
     "output_type": "display_data"
    }
   ],
   "source": [
    "sns.histplot(data=df, x=\"G3\", hue=\"sex\", element=\"step\")"
   ]
  },
  {
   "cell_type": "markdown",
   "id": "9af155d3",
   "metadata": {},
   "source": [
    "Let's drop out zeros as outliers."
   ]
  },
  {
   "cell_type": "code",
   "execution_count": 80,
   "id": "1e8329fd",
   "metadata": {},
   "outputs": [],
   "source": [
    "df = df[df['G3'] != 0]"
   ]
  },
  {
   "cell_type": "code",
   "execution_count": 81,
   "id": "7a38ca94",
   "metadata": {},
   "outputs": [
    {
     "data": {
      "text/plain": [
       "<AxesSubplot:xlabel='G3', ylabel='Count'>"
      ]
     },
     "execution_count": 81,
     "metadata": {},
     "output_type": "execute_result"
    },
    {
     "data": {
      "image/png": "[encoded data removed]",
      "text/plain": [
       "<Figure size 432x288 with 1 Axes>"
      ]
     },
     "metadata": {
      "needs_background": "light"
     },
     "output_type": "display_data"
    }
   ],
   "source": [
    "sns.histplot(data=df, x=\"G3\", hue=\"sex\", element=\"step\")"
   ]
  },
  {
   "cell_type": "code",
   "execution_count": 82,
   "id": "59968d80",
   "metadata": {},
   "outputs": [
    {
     "name": "stdout",
     "output_type": "stream",
     "text": [
      "k=2.323816262090783, p=0.31288857850171053\n"
     ]
    }
   ],
   "source": [
    "k, p = stats.normaltest(df[df['sex'] == 'F']['G3'])\n",
    "print(f\"k={k}, p={p}\")"
   ]
  },
  {
   "cell_type": "code",
   "execution_count": 83,
   "id": "4ca2152a",
   "metadata": {},
   "outputs": [
    {
     "name": "stdout",
     "output_type": "stream",
     "text": [
      "k=3.7174901419749595, p=0.15586811109986803\n"
     ]
    }
   ],
   "source": [
    "k, p = stats.normaltest(df[df['sex'] == 'M']['G3'])\n",
    "print(f\"k={k}, p={p}\")"
   ]
  },
  {
   "cell_type": "code",
   "execution_count": 85,
   "id": "dbdbdb29",
   "metadata": {},
   "outputs": [
    {
     "name": "stdout",
     "output_type": "stream",
     "text": [
      "k=0.6144552033049334, p=0.4336379490863752\n"
     ]
    }
   ],
   "source": [
    "stat, p = stats.levene(df[df['sex'] == 'F']['G3'], df[df['sex'] == 'M']['G3'])\n",
    "print(f\"k={stat}, p={p}\")"
   ]
  },
  {
   "cell_type": "markdown",
   "id": "f0809efc",
   "metadata": {},
   "source": [
    "The distribution is normal but the assumption with variances is violated so we choose Welch's t-test."
   ]
  },
  {
   "cell_type": "code",
   "execution_count": 86,
   "id": "e970cba2",
   "metadata": {},
   "outputs": [
    {
     "data": {
      "text/plain": [
       "Ttest_indResult(statistic=-1.9386213026002412, pvalue=0.05334760933558726)"
      ]
     },
     "execution_count": 86,
     "metadata": {},
     "output_type": "execute_result"
    }
   ],
   "source": [
    "stats.ttest_ind(df[df['sex'] == 'F']['G3'], df[df['sex'] == 'M']['G3'], equal_var=False)"
   ]
  },
  {
   "cell_type": "markdown",
   "id": "cf6efb11",
   "metadata": {},
   "source": [
    "*p-value* is higher than 0.05, so we can't reject the null hypothesis."
   ]
  },
  {
   "cell_type": "markdown",
   "id": "656f16c8",
   "metadata": {},
   "source": [
    "# prices and space (correlation)"
   ]
  },
  {
   "cell_type": "markdown",
   "id": "a8798571",
   "metadata": {},
   "source": [
    "Let's get back to the first dataset and try looking at the correlation.  \n",
    "\n",
    "Assumptions:\n",
    "* linear relationship\n",
    "* normally distributed samples"
   ]
  },
  {
   "cell_type": "code",
   "execution_count": 100,
   "id": "6458cda8",
   "metadata": {},
   "outputs": [
    {
     "data": {
      "text/plain": [
       "<AxesSubplot:xlabel='LotArea', ylabel='Count'>"
      ]
     },
     "execution_count": 100,
     "metadata": {},
     "output_type": "execute_result"
    },
    {
     "data": {
      "image/png": "[encoded data removed]",
      "text/plain": [
       "<Figure size 432x288 with 1 Axes>"
      ]
     },
     "metadata": {
      "needs_background": "light"
     },
     "output_type": "display_data"
    }
   ],
   "source": [
    "sns.histplot(housing['LotArea'])"
   ]
  },
  {
   "cell_type": "code",
   "execution_count": 99,
   "id": "b61ec822",
   "metadata": {},
   "outputs": [
    {
     "data": {
      "text/plain": [
       "<AxesSubplot:xlabel='SalePrice', ylabel='Count'>"
      ]
     },
     "execution_count": 99,
     "metadata": {},
     "output_type": "execute_result"
    },
    {
     "data": {
      "image/png": "[encoded data removed]",
      "text/plain": [
       "<Figure size 432x288 with 1 Axes>"
      ]
     },
     "metadata": {
      "needs_background": "light"
     },
     "output_type": "display_data"
    }
   ],
   "source": [
    "sns.histplot(housing['SalePrice'])"
   ]
  },
  {
   "cell_type": "code",
   "execution_count": 136,
   "id": "e5e169f0",
   "metadata": {},
   "outputs": [],
   "source": [
    "h1 = housing[housing['LotArea'] < 17500]\n",
    "h1 = h1[h1['LotArea'] > 2500]\n",
    "h1 = h1[h1['SalePrice'] < 300000]"
   ]
  },
  {
   "cell_type": "code",
   "execution_count": 137,
   "id": "b4364984",
   "metadata": {},
   "outputs": [
    {
     "data": {
      "text/plain": [
       "<AxesSubplot:xlabel='LotArea', ylabel='Count'>"
      ]
     },
     "execution_count": 137,
     "metadata": {},
     "output_type": "execute_result"
    },
    {
     "data": {
      "image/png": "[encoded data removed]",
      "text/plain": [
       "<Figure size 432x288 with 1 Axes>"
      ]
     },
     "metadata": {
      "needs_background": "light"
     },
     "output_type": "display_data"
    }
   ],
   "source": [
    "sns.histplot(h1['LotArea'])"
   ]
  },
  {
   "cell_type": "code",
   "execution_count": 138,
   "id": "58f3e48f",
   "metadata": {},
   "outputs": [
    {
     "data": {
      "text/plain": [
       "<AxesSubplot:xlabel='SalePrice', ylabel='Count'>"
      ]
     },
     "execution_count": 138,
     "metadata": {},
     "output_type": "execute_result"
    },
    {
     "data": {
      "image/png": "[encoded data removed]",
      "text/plain": [
       "<Figure size 432x288 with 1 Axes>"
      ]
     },
     "metadata": {
      "needs_background": "light"
     },
     "output_type": "display_data"
    }
   ],
   "source": [
    "sns.histplot(h1['SalePrice'])"
   ]
  },
  {
   "cell_type": "code",
   "execution_count": 139,
   "id": "fe8c1d84",
   "metadata": {},
   "outputs": [
    {
     "name": "stdout",
     "output_type": "stream",
     "text": [
      "k=4.103927789861775, p=0.12848232985853206\n"
     ]
    }
   ],
   "source": [
    "k, p = stats.normaltest(h1['LotArea'])\n",
    "print(f\"k={k}, p={p}\")"
   ]
  },
  {
   "cell_type": "code",
   "execution_count": 140,
   "id": "adda75da",
   "metadata": {},
   "outputs": [
    {
     "name": "stdout",
     "output_type": "stream",
     "text": [
      "k=40.453482535898935, p=1.6430011992948376e-09\n"
     ]
    }
   ],
   "source": [
    "k, p = stats.normaltest(h1['SalePrice'])\n",
    "print(f\"k={k}, p={p}\")"
   ]
  },
  {
   "cell_type": "code",
   "execution_count": 144,
   "id": "b372d3fb",
   "metadata": {},
   "outputs": [
    {
     "data": {
      "text/plain": [
       "<AxesSubplot:xlabel='LotArea', ylabel='SalePrice'>"
      ]
     },
     "execution_count": 144,
     "metadata": {},
     "output_type": "execute_result"
    },
    {
     "data": {
      "image/png": "[encoded data removed]",
      "text/plain": [
       "<Figure size 432x288 with 1 Axes>"
      ]
     },
     "metadata": {
      "needs_background": "light"
     },
     "output_type": "display_data"
    }
   ],
   "source": [
    "sns.scatterplot(data=h1, x=\"LotArea\", y=\"SalePrice\")"
   ]
  },
  {
   "cell_type": "code",
   "execution_count": 148,
   "id": "525eaa4f",
   "metadata": {},
   "outputs": [
    {
     "name": "stdout",
     "output_type": "stream",
     "text": [
      "0.33192141963896377 2.239241594993562e-33\n"
     ]
    }
   ],
   "source": [
    "r,p = stats.pearsonr(h1['LotArea'], h1['SalePrice'])\n",
    "print(r,p)"
   ]
  },
  {
   "cell_type": "code",
   "execution_count": null,
   "id": "ec59f19e",
   "metadata": {},
   "outputs": [],
   "source": []
  }
 ],
 "metadata": {
  "kernelspec": {
   "display_name": "Python 3",
   "language": "python",
   "name": "python3"
  },
  "language_info": {
   "codemirror_mode": {
    "name": "ipython",
    "version": 3
   },
   "file_extension": ".py",
   "mimetype": "text/x-python",
   "name": "python",
   "nbconvert_exporter": "python",
   "pygments_lexer": "ipython3",
   "version": "3.9.6"
  }
 },
 "nbformat": 4,
 "nbformat_minor": 5
}
