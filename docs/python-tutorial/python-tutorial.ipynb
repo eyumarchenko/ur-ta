{
 "cells": [
  {
   "cell_type": "code",
   "execution_count": 2,
   "id": "230f22fd",
   "metadata": {},
   "outputs": [],
   "source": [
    "# scientific computing\n",
    "import numpy as np\n",
    "\n",
    "# data analysis and manipulation tool\n",
    "import pandas as pd \n",
    "\n",
    "# the basis for plotting\n",
    "import matplotlib.pyplot as plt\n",
    "# plotting\n",
    "import seaborn as sns"
   ]
  },
  {
   "cell_type": "markdown",
   "id": "8d606139",
   "metadata": {},
   "source": [
    "# loading the dataset "
   ]
  },
  {
   "cell_type": "markdown",
   "id": "179c7df7",
   "metadata": {},
   "source": [
    "\n",
    "With `pandas`, it is easy to load data of different formats (e.g., .csv, .xlsx, .txt, etc.). The important thing to know is delimeters, or separators. Usually, they are detected automatically but, in some cases, you need to specify them yourselves. For example, to load data saved as a plain text, you will need something like `pd.read_csv('file.txt', sep = \"\\t\")`. \n",
    "\n",
    "Now we have a simple .csv file which can be loaded by using `read_csv` function directly.\n",
    "\n",
    "Link to the dataset: https://www.sheffield.ac.uk/polopoly_fs/1.937195!/file/Diet_R.csv  \n",
    "Summary: information about 78 people using one of three diets"
   ]
  },
  {
   "cell_type": "code",
   "execution_count": 4,
   "id": "2f2bdad9",
   "metadata": {},
   "outputs": [],
   "source": [
    "df_diet = pd.read_csv(\"Diet_R.csv\")"
   ]
  },
  {
   "cell_type": "markdown",
   "id": "038d59c7",
   "metadata": {},
   "source": [
    "To briefly examine the dataset, we can use different methods. For example, we can just call the dataset by printing `df_diet`. Jupyter Notebook gives a nice summary by showing several formatted first and last rows."
   ]
  },
  {
   "cell_type": "code",
   "execution_count": 5,
   "id": "9a700b31",
   "metadata": {},
   "outputs": [
    {
     "data": {
      "text/html": [
       "<div>\n",
       "<style scoped>\n",
       "    .dataframe tbody tr th:only-of-type {\n",
       "        vertical-align: middle;\n",
       "    }\n",
       "\n",
       "    .dataframe tbody tr th {\n",
       "        vertical-align: top;\n",
       "    }\n",
       "\n",
       "    .dataframe thead th {\n",
       "        text-align: right;\n",
       "    }\n",
       "</style>\n",
       "<table border=\"1\" class=\"dataframe\">\n",
       "  <thead>\n",
       "    <tr style=\"text-align: right;\">\n",
       "      <th></th>\n",
       "      <th>Person</th>\n",
       "      <th>gender</th>\n",
       "      <th>Age</th>\n",
       "      <th>Height</th>\n",
       "      <th>pre.weight</th>\n",
       "      <th>Diet</th>\n",
       "      <th>weight6weeks</th>\n",
       "    </tr>\n",
       "  </thead>\n",
       "  <tbody>\n",
       "    <tr>\n",
       "      <th>0</th>\n",
       "      <td>25</td>\n",
       "      <td></td>\n",
       "      <td>41</td>\n",
       "      <td>171</td>\n",
       "      <td>60</td>\n",
       "      <td>2</td>\n",
       "      <td>60.0</td>\n",
       "    </tr>\n",
       "    <tr>\n",
       "      <th>1</th>\n",
       "      <td>26</td>\n",
       "      <td></td>\n",
       "      <td>32</td>\n",
       "      <td>174</td>\n",
       "      <td>103</td>\n",
       "      <td>2</td>\n",
       "      <td>103.0</td>\n",
       "    </tr>\n",
       "    <tr>\n",
       "      <th>2</th>\n",
       "      <td>1</td>\n",
       "      <td>0</td>\n",
       "      <td>22</td>\n",
       "      <td>159</td>\n",
       "      <td>58</td>\n",
       "      <td>1</td>\n",
       "      <td>54.2</td>\n",
       "    </tr>\n",
       "    <tr>\n",
       "      <th>3</th>\n",
       "      <td>2</td>\n",
       "      <td>0</td>\n",
       "      <td>46</td>\n",
       "      <td>192</td>\n",
       "      <td>60</td>\n",
       "      <td>1</td>\n",
       "      <td>54.0</td>\n",
       "    </tr>\n",
       "    <tr>\n",
       "      <th>4</th>\n",
       "      <td>3</td>\n",
       "      <td>0</td>\n",
       "      <td>55</td>\n",
       "      <td>170</td>\n",
       "      <td>64</td>\n",
       "      <td>1</td>\n",
       "      <td>63.3</td>\n",
       "    </tr>\n",
       "    <tr>\n",
       "      <th>...</th>\n",
       "      <td>...</td>\n",
       "      <td>...</td>\n",
       "      <td>...</td>\n",
       "      <td>...</td>\n",
       "      <td>...</td>\n",
       "      <td>...</td>\n",
       "      <td>...</td>\n",
       "    </tr>\n",
       "    <tr>\n",
       "      <th>73</th>\n",
       "      <td>74</td>\n",
       "      <td>1</td>\n",
       "      <td>35</td>\n",
       "      <td>183</td>\n",
       "      <td>83</td>\n",
       "      <td>3</td>\n",
       "      <td>80.2</td>\n",
       "    </tr>\n",
       "    <tr>\n",
       "      <th>74</th>\n",
       "      <td>75</td>\n",
       "      <td>1</td>\n",
       "      <td>49</td>\n",
       "      <td>177</td>\n",
       "      <td>84</td>\n",
       "      <td>3</td>\n",
       "      <td>79.9</td>\n",
       "    </tr>\n",
       "    <tr>\n",
       "      <th>75</th>\n",
       "      <td>76</td>\n",
       "      <td>1</td>\n",
       "      <td>28</td>\n",
       "      <td>164</td>\n",
       "      <td>85</td>\n",
       "      <td>3</td>\n",
       "      <td>79.7</td>\n",
       "    </tr>\n",
       "    <tr>\n",
       "      <th>76</th>\n",
       "      <td>77</td>\n",
       "      <td>1</td>\n",
       "      <td>40</td>\n",
       "      <td>167</td>\n",
       "      <td>87</td>\n",
       "      <td>3</td>\n",
       "      <td>77.8</td>\n",
       "    </tr>\n",
       "    <tr>\n",
       "      <th>77</th>\n",
       "      <td>78</td>\n",
       "      <td>1</td>\n",
       "      <td>51</td>\n",
       "      <td>175</td>\n",
       "      <td>88</td>\n",
       "      <td>3</td>\n",
       "      <td>81.9</td>\n",
       "    </tr>\n",
       "  </tbody>\n",
       "</table>\n",
       "<p>78 rows × 7 columns</p>\n",
       "</div>"
      ],
      "text/plain": [
       "    Person gender  Age  Height  pre.weight  Diet  weight6weeks\n",
       "0       25          41     171          60     2          60.0\n",
       "1       26          32     174         103     2         103.0\n",
       "2        1      0   22     159          58     1          54.2\n",
       "3        2      0   46     192          60     1          54.0\n",
       "4        3      0   55     170          64     1          63.3\n",
       "..     ...    ...  ...     ...         ...   ...           ...\n",
       "73      74      1   35     183          83     3          80.2\n",
       "74      75      1   49     177          84     3          79.9\n",
       "75      76      1   28     164          85     3          79.7\n",
       "76      77      1   40     167          87     3          77.8\n",
       "77      78      1   51     175          88     3          81.9\n",
       "\n",
       "[78 rows x 7 columns]"
      ]
     },
     "execution_count": 5,
     "metadata": {},
     "output_type": "execute_result"
    }
   ],
   "source": [
    "df_diet"
   ]
  },
  {
   "cell_type": "markdown",
   "id": "4615571c",
   "metadata": {},
   "source": [
    "Also, we can call `print(df_diet)` to have an unformatted variant of the table above. Finally, it can be useful to see first and last rows separately with functions `df_diet.head()` and `df_diet.tail()`. By defauly, it returns 5 rows but you can specify the needed amount (e.g., `df_diet.head(10)`)."
   ]
  },
  {
   "cell_type": "markdown",
   "id": "040b718b",
   "metadata": {},
   "source": [
    "# data manipulation "
   ]
  },
  {
   "cell_type": "markdown",
   "id": "0b144d14",
   "metadata": {},
   "source": [
    "First of all, it is possible to do simple calculations with columns. For example, we can look at the change it weights of participants and save it as a new column."
   ]
  },
  {
   "cell_type": "code",
   "execution_count": 6,
   "id": "1792e55e",
   "metadata": {},
   "outputs": [
    {
     "data": {
      "text/html": [
       "<div>\n",
       "<style scoped>\n",
       "    .dataframe tbody tr th:only-of-type {\n",
       "        vertical-align: middle;\n",
       "    }\n",
       "\n",
       "    .dataframe tbody tr th {\n",
       "        vertical-align: top;\n",
       "    }\n",
       "\n",
       "    .dataframe thead th {\n",
       "        text-align: right;\n",
       "    }\n",
       "</style>\n",
       "<table border=\"1\" class=\"dataframe\">\n",
       "  <thead>\n",
       "    <tr style=\"text-align: right;\">\n",
       "      <th></th>\n",
       "      <th>Person</th>\n",
       "      <th>gender</th>\n",
       "      <th>Age</th>\n",
       "      <th>Height</th>\n",
       "      <th>pre.weight</th>\n",
       "      <th>Diet</th>\n",
       "      <th>weight6weeks</th>\n",
       "      <th>weight.delta</th>\n",
       "    </tr>\n",
       "  </thead>\n",
       "  <tbody>\n",
       "    <tr>\n",
       "      <th>0</th>\n",
       "      <td>25</td>\n",
       "      <td></td>\n",
       "      <td>41</td>\n",
       "      <td>171</td>\n",
       "      <td>60</td>\n",
       "      <td>2</td>\n",
       "      <td>60.0</td>\n",
       "      <td>0.0</td>\n",
       "    </tr>\n",
       "    <tr>\n",
       "      <th>1</th>\n",
       "      <td>26</td>\n",
       "      <td></td>\n",
       "      <td>32</td>\n",
       "      <td>174</td>\n",
       "      <td>103</td>\n",
       "      <td>2</td>\n",
       "      <td>103.0</td>\n",
       "      <td>0.0</td>\n",
       "    </tr>\n",
       "    <tr>\n",
       "      <th>2</th>\n",
       "      <td>1</td>\n",
       "      <td>0</td>\n",
       "      <td>22</td>\n",
       "      <td>159</td>\n",
       "      <td>58</td>\n",
       "      <td>1</td>\n",
       "      <td>54.2</td>\n",
       "      <td>3.8</td>\n",
       "    </tr>\n",
       "    <tr>\n",
       "      <th>3</th>\n",
       "      <td>2</td>\n",
       "      <td>0</td>\n",
       "      <td>46</td>\n",
       "      <td>192</td>\n",
       "      <td>60</td>\n",
       "      <td>1</td>\n",
       "      <td>54.0</td>\n",
       "      <td>6.0</td>\n",
       "    </tr>\n",
       "    <tr>\n",
       "      <th>4</th>\n",
       "      <td>3</td>\n",
       "      <td>0</td>\n",
       "      <td>55</td>\n",
       "      <td>170</td>\n",
       "      <td>64</td>\n",
       "      <td>1</td>\n",
       "      <td>63.3</td>\n",
       "      <td>0.7</td>\n",
       "    </tr>\n",
       "    <tr>\n",
       "      <th>...</th>\n",
       "      <td>...</td>\n",
       "      <td>...</td>\n",
       "      <td>...</td>\n",
       "      <td>...</td>\n",
       "      <td>...</td>\n",
       "      <td>...</td>\n",
       "      <td>...</td>\n",
       "      <td>...</td>\n",
       "    </tr>\n",
       "    <tr>\n",
       "      <th>73</th>\n",
       "      <td>74</td>\n",
       "      <td>1</td>\n",
       "      <td>35</td>\n",
       "      <td>183</td>\n",
       "      <td>83</td>\n",
       "      <td>3</td>\n",
       "      <td>80.2</td>\n",
       "      <td>2.8</td>\n",
       "    </tr>\n",
       "    <tr>\n",
       "      <th>74</th>\n",
       "      <td>75</td>\n",
       "      <td>1</td>\n",
       "      <td>49</td>\n",
       "      <td>177</td>\n",
       "      <td>84</td>\n",
       "      <td>3</td>\n",
       "      <td>79.9</td>\n",
       "      <td>4.1</td>\n",
       "    </tr>\n",
       "    <tr>\n",
       "      <th>75</th>\n",
       "      <td>76</td>\n",
       "      <td>1</td>\n",
       "      <td>28</td>\n",
       "      <td>164</td>\n",
       "      <td>85</td>\n",
       "      <td>3</td>\n",
       "      <td>79.7</td>\n",
       "      <td>5.3</td>\n",
       "    </tr>\n",
       "    <tr>\n",
       "      <th>76</th>\n",
       "      <td>77</td>\n",
       "      <td>1</td>\n",
       "      <td>40</td>\n",
       "      <td>167</td>\n",
       "      <td>87</td>\n",
       "      <td>3</td>\n",
       "      <td>77.8</td>\n",
       "      <td>9.2</td>\n",
       "    </tr>\n",
       "    <tr>\n",
       "      <th>77</th>\n",
       "      <td>78</td>\n",
       "      <td>1</td>\n",
       "      <td>51</td>\n",
       "      <td>175</td>\n",
       "      <td>88</td>\n",
       "      <td>3</td>\n",
       "      <td>81.9</td>\n",
       "      <td>6.1</td>\n",
       "    </tr>\n",
       "  </tbody>\n",
       "</table>\n",
       "<p>78 rows × 8 columns</p>\n",
       "</div>"
      ],
      "text/plain": [
       "    Person gender  Age  Height  pre.weight  Diet  weight6weeks  weight.delta\n",
       "0       25          41     171          60     2          60.0           0.0\n",
       "1       26          32     174         103     2         103.0           0.0\n",
       "2        1      0   22     159          58     1          54.2           3.8\n",
       "3        2      0   46     192          60     1          54.0           6.0\n",
       "4        3      0   55     170          64     1          63.3           0.7\n",
       "..     ...    ...  ...     ...         ...   ...           ...           ...\n",
       "73      74      1   35     183          83     3          80.2           2.8\n",
       "74      75      1   49     177          84     3          79.9           4.1\n",
       "75      76      1   28     164          85     3          79.7           5.3\n",
       "76      77      1   40     167          87     3          77.8           9.2\n",
       "77      78      1   51     175          88     3          81.9           6.1\n",
       "\n",
       "[78 rows x 8 columns]"
      ]
     },
     "execution_count": 6,
     "metadata": {},
     "output_type": "execute_result"
    }
   ],
   "source": [
    "df_diet['weight.delta'] = df_diet['pre.weight'] - df_diet['weight6weeks']\n",
    "df_diet"
   ]
  },
  {
   "cell_type": "markdown",
   "id": "c9a8c348",
   "metadata": {},
   "source": [
    "But sometimes more complicated operations are required. For example, we can see summary statistics for people taking different diets. To do this, we can use `groupby` function from `pandas`."
   ]
  },
  {
   "cell_type": "code",
   "execution_count": 7,
   "id": "8fe31a4f",
   "metadata": {},
   "outputs": [
    {
     "data": {
      "text/html": [
       "<div>\n",
       "<style scoped>\n",
       "    .dataframe tbody tr th:only-of-type {\n",
       "        vertical-align: middle;\n",
       "    }\n",
       "\n",
       "    .dataframe tbody tr th {\n",
       "        vertical-align: top;\n",
       "    }\n",
       "\n",
       "    .dataframe thead th {\n",
       "        text-align: right;\n",
       "    }\n",
       "</style>\n",
       "<table border=\"1\" class=\"dataframe\">\n",
       "  <thead>\n",
       "    <tr style=\"text-align: right;\">\n",
       "      <th></th>\n",
       "      <th>Diet</th>\n",
       "      <th>Person</th>\n",
       "      <th>Age</th>\n",
       "      <th>Height</th>\n",
       "      <th>pre.weight</th>\n",
       "      <th>weight6weeks</th>\n",
       "      <th>weight.delta</th>\n",
       "    </tr>\n",
       "  </thead>\n",
       "  <tbody>\n",
       "    <tr>\n",
       "      <th>0</th>\n",
       "      <td>1</td>\n",
       "      <td>12.5</td>\n",
       "      <td>40.875000</td>\n",
       "      <td>170.291667</td>\n",
       "      <td>72.875000</td>\n",
       "      <td>69.575000</td>\n",
       "      <td>3.300000</td>\n",
       "    </tr>\n",
       "    <tr>\n",
       "      <th>1</th>\n",
       "      <td>2</td>\n",
       "      <td>38.0</td>\n",
       "      <td>39.000000</td>\n",
       "      <td>174.851852</td>\n",
       "      <td>71.111111</td>\n",
       "      <td>68.085185</td>\n",
       "      <td>3.025926</td>\n",
       "    </tr>\n",
       "    <tr>\n",
       "      <th>2</th>\n",
       "      <td>3</td>\n",
       "      <td>65.0</td>\n",
       "      <td>37.777778</td>\n",
       "      <td>167.259259</td>\n",
       "      <td>73.629630</td>\n",
       "      <td>68.481481</td>\n",
       "      <td>5.148148</td>\n",
       "    </tr>\n",
       "  </tbody>\n",
       "</table>\n",
       "</div>"
      ],
      "text/plain": [
       "   Diet  Person        Age      Height  pre.weight  weight6weeks  weight.delta\n",
       "0     1    12.5  40.875000  170.291667   72.875000     69.575000      3.300000\n",
       "1     2    38.0  39.000000  174.851852   71.111111     68.085185      3.025926\n",
       "2     3    65.0  37.777778  167.259259   73.629630     68.481481      5.148148"
      ]
     },
     "execution_count": 7,
     "metadata": {},
     "output_type": "execute_result"
    }
   ],
   "source": [
    "df_diet.groupby(by='Diet', as_index=False).mean()"
   ]
  },
  {
   "cell_type": "markdown",
   "id": "09c877e7",
   "metadata": {},
   "source": [
    "So, we can see that the 3rd diet was the most effective as it had the heighest `weight.delta` value."
   ]
  },
  {
   "cell_type": "markdown",
   "id": "7010cb15",
   "metadata": {},
   "source": [
    "### task:\n",
    "> How the code above should be edited to see the summary statics for both diet and gender simulteneously?   \n",
    "> Which gender performed better? Using what diet?"
   ]
  },
  {
   "cell_type": "code",
   "execution_count": null,
   "id": "308644e9",
   "metadata": {},
   "outputs": [],
   "source": []
  },
  {
   "cell_type": "markdown",
   "id": "28c1fffb",
   "metadata": {},
   "source": [
    "But it is also possible to avoid such construction with the loop."
   ]
  },
  {
   "cell_type": "code",
   "execution_count": 39,
   "id": "c558ac1c",
   "metadata": {},
   "outputs": [
    {
     "name": "stdout",
     "output_type": "stream",
     "text": [
      "{2: [0.0, 0.0, -2.1000000000000014, 2.0, 1.7000000000000028, 4.299999999999997, 7.0, 0.6000000000000014, 2.700000000000003, 3.6000000000000014, 3.0, 2.0, 4.200000000000003, 4.700000000000003, 3.299999999999997, -0.5, 4.200000000000003, 2.4000000000000057, 5.799999999999997, 3.5, 5.299999999999997, 1.7000000000000028, 5.400000000000006, 6.099999999999994, 7.900000000000006, -1.4000000000000057, 4.299999999999997], 1: [3.799999999999997, 6.0, 0.7000000000000028, 2.8999999999999986, 2.799999999999997, 2.0, 2.0, 8.5, 1.9000000000000057, 3.0999999999999943, 1.5, 3.0, 3.5999999999999943, 0.9000000000000057, -0.5999999999999943, 1.0999999999999943, 4.5, 4.099999999999994, 9.0, 2.4000000000000057, 3.9000000000000057, 3.5, 5.099999999999994, 3.5], 3: [7.0, 5.600000000000001, 3.3999999999999986, 6.799999999999997, 7.799999999999997, 5.399999999999999, 6.799999999999997, 7.200000000000003, 7.0, 7.299999999999997, 0.9000000000000057, 7.599999999999994, 4.099999999999994, 6.299999999999997, 5.0, 2.5, 0.9000000000000057, 3.5, 0.5, 2.799999999999997, 8.599999999999994, 4.5, 2.799999999999997, 4.099999999999994, 5.299999999999997, 9.200000000000003, 6.099999999999994]}\n"
     ]
    }
   ],
   "source": [
    "grouped_diet = df_diet.groupby('Diet')\n",
    "diet_columns = df_diet.Diet.unique()\n",
    "\n",
    "diet_data = {}\n",
    "\n",
    "for group in diet_columns:\n",
    "    diet_data[group] = grouped_diet.get_group(group)['weight.delta'].agg(lambda x: x.tolist())\n",
    "    \n",
    "print (diet_data)\n",
    "    \n",
    "df_box_diet = pd.DataFrame.from_dict(diet_data, orient='index')"
   ]
  },
  {
   "cell_type": "markdown",
   "id": "930523e9",
   "metadata": {},
   "source": [
    "More info on `pandas`: https://pandas.pydata.org/docs/user_guide/index.html#user-guide"
   ]
  },
  {
   "cell_type": "markdown",
   "id": "66f7c635",
   "metadata": {},
   "source": [
    "# plot with matplotlib"
   ]
  },
  {
   "cell_type": "markdown",
   "id": "d826a232",
   "metadata": {},
   "source": [
    "Even though it is possible to show the important information using the text only, it could be better to use graphical representation as it is easier to read. Still, it is crucial to guide readers through the information to avoid misunderstandings. For example, you need to use the correct type of plot for the particular (e.g., the distribution is shown with histogram).   \n",
    "\n",
    "`matplotlib` can help with basic plotting."
   ]
  },
  {
   "cell_type": "code",
   "execution_count": 14,
   "id": "07abf245",
   "metadata": {},
   "outputs": [
    {
     "data": {
      "image/png": "[encoded data removed]",
      "text/plain": [
       "<Figure size 432x288 with 1 Axes>"
      ]
     },
     "metadata": {
      "needs_background": "light"
     },
     "output_type": "display_data"
    }
   ],
   "source": [
    "fig, ax = plt.subplots()\n",
    "data_id = ['Data 1', 'Data2', 'Data 3']\n",
    "means = [np.mean(df_diet[df_diet['Diet']==1]['weight.delta']), np.mean(df_diet[df_diet['Diet']==2]['weight.delta']), np.mean(df_diet[df_diet['Diet']==3]['weight.delta'])]\n",
    "ax.bar(data_id, means)\n",
    "plt.title(\"With Matplotlib\")\n",
    "plt.show()"
   ]
  },
  {
   "cell_type": "markdown",
   "id": "de41643c",
   "metadata": {},
   "source": [
    "# basics of plotting with seaborn"
   ]
  },
  {
   "cell_type": "markdown",
   "id": "b0ce20d5",
   "metadata": {},
   "source": [
    "`seaborn` is a Python data visualization library based on `matplotlib` which benefits are simplicity and attractiveness.   \n",
    "\n",
    "However, when you do plots, it is remember to choose the right type."
   ]
  },
  {
   "cell_type": "markdown",
   "id": "a0f5412c",
   "metadata": {},
   "source": [
    "## bar plot"
   ]
  },
  {
   "cell_type": "markdown",
   "id": "459657dc",
   "metadata": {},
   "source": [
    "If you need to compare compare values of discrete categories, you can choose *bar plot*. "
   ]
  },
  {
   "cell_type": "markdown",
   "id": "be9863df",
   "metadata": {},
   "source": [
    "Lets see how many participants followed each data:"
   ]
  },
  {
   "cell_type": "code",
   "execution_count": 27,
   "id": "9722e3a1",
   "metadata": {},
   "outputs": [
    {
     "data": {
      "text/plain": [
       "<AxesSubplot:xlabel='Diet', ylabel='Person'>"
      ]
     },
     "execution_count": 27,
     "metadata": {},
     "output_type": "execute_result"
    },
    {
     "data": {
      "image/png": "[encoded data removed]",
      "text/plain": [
       "<Figure size 432x288 with 1 Axes>"
      ]
     },
     "metadata": {
      "needs_background": "light"
     },
     "output_type": "display_data"
    }
   ],
   "source": [
    "diet_count = df_diet.groupby(by='Diet', as_index=False).count()\n",
    "sns.barplot(x=diet_count['Diet'], y=diet_count['Person'])"
   ]
  },
  {
   "cell_type": "markdown",
   "id": "dc83f08f",
   "metadata": {},
   "source": [
    "By the plot above, we can say that there was roughly equal amount of participants trying different diets. But what if we include the gender?"
   ]
  },
  {
   "cell_type": "code",
   "execution_count": 28,
   "id": "f7bac17b",
   "metadata": {},
   "outputs": [
    {
     "data": {
      "text/plain": [
       "<AxesSubplot:xlabel='Diet', ylabel='Person'>"
      ]
     },
     "execution_count": 28,
     "metadata": {},
     "output_type": "execute_result"
    },
    {
     "data": {
      "image/png": "[encoded data removed]",
      "text/plain": [
       "<Figure size 432x288 with 1 Axes>"
      ]
     },
     "metadata": {
      "needs_background": "light"
     },
     "output_type": "display_data"
    }
   ],
   "source": [
    "diet_gender = df_diet.groupby(by=['Diet', 'gender'], as_index=False).count()\n",
    "sns.barplot(x=diet_gender['Diet'], y=diet_gender['Person'], hue=diet_gender['gender'])"
   ]
  },
  {
   "cell_type": "markdown",
   "id": "93eb5d7d",
   "metadata": {},
   "source": [
    "Now we can see, that there were always more participants of gender 0. Besides, several participants didn't specify their gender. \n",
    "\n",
    "To make this plot even better, we can add title, change colours of bars and borders. For example: "
   ]
  },
  {
   "cell_type": "code",
   "execution_count": 53,
   "id": "560b714c",
   "metadata": {},
   "outputs": [
    {
     "data": {
      "text/plain": [
       "<matplotlib.legend.Legend at 0x12caddd90>"
      ]
     },
     "execution_count": 53,
     "metadata": {},
     "output_type": "execute_result"
    },
    {
     "data": {
      "image/png": "[encoded data removed]",
      "text/plain": [
       "<Figure size 432x288 with 1 Axes>"
      ]
     },
     "metadata": {
      "needs_background": "light"
     },
     "output_type": "display_data"
    }
   ],
   "source": [
    "sns.barplot(x=diet_gender['Diet'], y=diet_gender['Person'], hue=diet_gender['gender'], palette='Accent').set(title='Amount of articipants following each diet', ylabel='Amount')\n",
    "plt.legend(loc = 2, bbox_to_anchor = (1,1))"
   ]
  },
  {
   "cell_type": "markdown",
   "id": "ce2a507a",
   "metadata": {},
   "source": [
    "Now, the label for y-axis is more informative, and the legend is located outside the main box. If we had a background information, we could add it to the axis (e.g., to decode what gender 0 and 1 means). "
   ]
  },
  {
   "cell_type": "markdown",
   "id": "f2b69f98",
   "metadata": {},
   "source": [
    "## box plot"
   ]
  },
  {
   "cell_type": "markdown",
   "id": "0a39e877",
   "metadata": {},
   "source": [
    "The more complete picture you can get with *box plot*..."
   ]
  },
  {
   "cell_type": "code",
   "execution_count": 21,
   "id": "f655c299",
   "metadata": {
    "scrolled": true
   },
   "outputs": [
    {
     "data": {
      "text/plain": [
       "<AxesSubplot:xlabel='Diet', ylabel='weight.delta'>"
      ]
     },
     "execution_count": 21,
     "metadata": {},
     "output_type": "execute_result"
    },
    {
     "data": {
      "image/png": "[encoded data removed]",
      "text/plain": [
       "<Figure size 432x288 with 1 Axes>"
      ]
     },
     "metadata": {
      "needs_background": "light"
     },
     "output_type": "display_data"
    }
   ],
   "source": [
    "sns.boxplot(x=df_diet['Diet'], y=df_diet['weight.delta'])"
   ]
  },
  {
   "cell_type": "markdown",
   "id": "69971e9a",
   "metadata": {},
   "source": [
    "## violin plot"
   ]
  },
  {
   "cell_type": "markdown",
   "id": "5028c4d4",
   "metadata": {},
   "source": [
    "... or the *violin plot*."
   ]
  },
  {
   "cell_type": "code",
   "execution_count": 30,
   "id": "a6fe23d5",
   "metadata": {},
   "outputs": [
    {
     "data": {
      "text/plain": [
       "<AxesSubplot:xlabel='Diet', ylabel='weight.delta'>"
      ]
     },
     "execution_count": 30,
     "metadata": {},
     "output_type": "execute_result"
    },
    {
     "data": {
      "image/png": "[encoded data removed]",
      "text/plain": [
       "<Figure size 432x288 with 1 Axes>"
      ]
     },
     "metadata": {
      "needs_background": "light"
     },
     "output_type": "display_data"
    }
   ],
   "source": [
    "sns.violinplot(x=df_diet['Diet'], y=df_diet['weight.delta'])"
   ]
  },
  {
   "cell_type": "markdown",
   "id": "3310a434",
   "metadata": {},
   "source": [
    "## histogram"
   ]
  },
  {
   "cell_type": "markdown",
   "id": "e338c00d",
   "metadata": {},
   "source": [
    "If you want to look at the distribution of a continious variable, you should choose *histogram*."
   ]
  },
  {
   "cell_type": "code",
   "execution_count": 29,
   "id": "6ab0ca33",
   "metadata": {},
   "outputs": [
    {
     "data": {
      "text/plain": [
       "<AxesSubplot:xlabel='weight.delta', ylabel='Count'>"
      ]
     },
     "execution_count": 29,
     "metadata": {},
     "output_type": "execute_result"
    },
    {
     "data": {
      "image/png": "[encoded data removed]",
      "text/plain": [
       "<Figure size 432x288 with 1 Axes>"
      ]
     },
     "metadata": {
      "needs_background": "light"
     },
     "output_type": "display_data"
    }
   ],
   "source": [
    "sns.histplot(x=df_diet['weight.delta'], bins=20)"
   ]
  },
  {
   "cell_type": "markdown",
   "id": "39f5560f",
   "metadata": {},
   "source": [
    "## scatter plot"
   ]
  },
  {
   "cell_type": "markdown",
   "id": "fb4d1425",
   "metadata": {},
   "source": [
    "When you want to look at the relationships between two continious variables, you choose *scatter plot*. "
   ]
  },
  {
   "cell_type": "code",
   "execution_count": 37,
   "id": "355dcb74",
   "metadata": {},
   "outputs": [
    {
     "data": {
      "text/plain": [
       "<AxesSubplot:xlabel='Height', ylabel='weight.delta'>"
      ]
     },
     "execution_count": 37,
     "metadata": {},
     "output_type": "execute_result"
    },
    {
     "data": {
      "image/png": "[encoded data removed]",
      "text/plain": [
       "<Figure size 432x288 with 1 Axes>"
      ]
     },
     "metadata": {
      "needs_background": "light"
     },
     "output_type": "display_data"
    }
   ],
   "source": [
    "sns.scatterplot(x=df_diet['Height'], y=df_diet['weight.delta'], hue=df_diet['Diet'])"
   ]
  },
  {
   "cell_type": "markdown",
   "id": "0b01644d",
   "metadata": {},
   "source": [
    "## line plot"
   ]
  },
  {
   "cell_type": "markdown",
   "id": "e2b93176",
   "metadata": {},
   "source": [
    "With *line plots*, it is possible to look at the change of variable over time."
   ]
  },
  {
   "cell_type": "code",
   "execution_count": 38,
   "id": "08e608cb",
   "metadata": {},
   "outputs": [
    {
     "data": {
      "text/plain": [
       "<AxesSubplot:xlabel='year', ylabel='passengers'>"
      ]
     },
     "execution_count": 38,
     "metadata": {},
     "output_type": "execute_result"
    },
    {
     "data": {
      "image/png": "[encoded data removed]",
      "text/plain": [
       "<Figure size 432x288 with 1 Axes>"
      ]
     },
     "metadata": {
      "needs_background": "light"
     },
     "output_type": "display_data"
    }
   ],
   "source": [
    "flights = sns.load_dataset(\"flights\")\n",
    "may_flights = flights.query(\"month == 'May'\")\n",
    "sns.lineplot(data=may_flights, x=\"year\", y=\"passengers\")"
   ]
  },
  {
   "cell_type": "markdown",
   "id": "c1fdd570",
   "metadata": {},
   "source": [
    "More info about visualisation in general: https://towardsdatascience.com/data-visualization-101-how-to-choose-a-chart-type-9b8830e558d6  \n",
    "More info on `seaborn`: https://seaborn.pydata.org"
   ]
  },
  {
   "cell_type": "markdown",
   "id": "03184013",
   "metadata": {},
   "source": [
    "# generating the data"
   ]
  },
  {
   "cell_type": "markdown",
   "id": "b051f386",
   "metadata": {},
   "source": [
    "However, in some cases, instead of loading the data, we generate it. In this case, `numpy` which is one of the most basic libraries would be a great help. Lets start with generating two different datasets. To do this, we will randomly sample a Beta distribution with `np.random.beta()`. It requires 3 arguments: $\\alpha$, $\\beta$, and *size*. Both $\\alpha$, $\\beta$ should be positive. "
   ]
  },
  {
   "cell_type": "code",
   "execution_count": 56,
   "id": "f5161d2e",
   "metadata": {
    "scrolled": true
   },
   "outputs": [
    {
     "name": "stdout",
     "output_type": "stream",
     "text": [
      "data1 (3 first values): [0.079743   0.1001085  0.02233009]\n",
      "data2 (3 first values): [0.48190481 0.46384746 0.50741647]\n"
     ]
    }
   ],
   "source": [
    "# data set 1\n",
    "a, b = 2, 5\n",
    "n = 100\n",
    "np.random.seed(123)\n",
    "data1 = np.random.beta(a, b, size=n)\n",
    "print(\"data1 (3 first values):\", data1[:3])\n",
    "\n",
    "# data set 2\n",
    "a, b = 10, 5\n",
    "n = 100\n",
    "np.random.seed(123)\n",
    "data2 = np.random.beta(a, b, size=n)\n",
    "print(\"data2 (3 first values):\", data2[:3])"
   ]
  },
  {
   "cell_type": "markdown",
   "id": "1a6d3a20",
   "metadata": {},
   "source": [
    "More info about random sampling: https://numpy.org/doc/stable/reference/random/index.html"
   ]
  },
  {
   "cell_type": "markdown",
   "id": "6c3cf530",
   "metadata": {},
   "source": [
    "# calculations"
   ]
  },
  {
   "cell_type": "markdown",
   "id": "4a8cf0b1",
   "metadata": {},
   "source": [
    "With `numpy`, it is easy to do calculations. For example, we can check the mean values of generated data sets..."
   ]
  },
  {
   "cell_type": "code",
   "execution_count": 61,
   "id": "5a559be8",
   "metadata": {},
   "outputs": [
    {
     "name": "stdout",
     "output_type": "stream",
     "text": [
      "Mean of the first data set is 0.2682906798384101 .\n",
      "Mean of the second data set is 0.6669931458932479 .\n"
     ]
    }
   ],
   "source": [
    "print(\"Mean of the first data set is\", np.mean(data1))\n",
    "print(\"Mean of the second data set is\", np.mean(data2))"
   ]
  },
  {
   "cell_type": "markdown",
   "id": "4e289000",
   "metadata": {},
   "source": [
    "... or median"
   ]
  },
  {
   "cell_type": "code",
   "execution_count": 62,
   "id": "1c36940c",
   "metadata": {},
   "outputs": [
    {
     "name": "stdout",
     "output_type": "stream",
     "text": [
      "Median of the first data set is 0.2331604892780911\n",
      "Median of the second data set is 0.685457834734287\n"
     ]
    }
   ],
   "source": [
    "print(\"Median of the first data set is\", np.median(data1))\n",
    "print(\"Median of the second data set is\", np.median(data2))"
   ]
  },
  {
   "cell_type": "markdown",
   "id": "0020f80d",
   "metadata": {},
   "source": [
    "We can do the same with the previously loaded data about diets:"
   ]
  },
  {
   "cell_type": "code",
   "execution_count": 67,
   "id": "2c71340e",
   "metadata": {},
   "outputs": [
    {
     "name": "stdout",
     "output_type": "stream",
     "text": [
      "Mean age of participants is 39.15\n"
     ]
    }
   ],
   "source": [
    "print(\"Mean age of participants is\", round(np.mean(df_diet['Age']), 2))"
   ]
  },
  {
   "cell_type": "markdown",
   "id": "0317407b",
   "metadata": {},
   "source": [
    "More info on `matplotlib`: https://matplotlib.org"
   ]
  },
  {
   "cell_type": "markdown",
   "id": "ce556546",
   "metadata": {},
   "source": [
    "# convert numpy data to pandas"
   ]
  },
  {
   "cell_type": "markdown",
   "id": "0b858680",
   "metadata": {},
   "source": [
    "It is also possible to convert generated with `numpy` data into `pandas` format in order to perform manipulations."
   ]
  },
  {
   "cell_type": "code",
   "execution_count": 68,
   "id": "3cef788a",
   "metadata": {
    "scrolled": true
   },
   "outputs": [
    {
     "data": {
      "text/html": [
       "<div>\n",
       "<style scoped>\n",
       "    .dataframe tbody tr th:only-of-type {\n",
       "        vertical-align: middle;\n",
       "    }\n",
       "\n",
       "    .dataframe tbody tr th {\n",
       "        vertical-align: top;\n",
       "    }\n",
       "\n",
       "    .dataframe thead th {\n",
       "        text-align: right;\n",
       "    }\n",
       "</style>\n",
       "<table border=\"1\" class=\"dataframe\">\n",
       "  <thead>\n",
       "    <tr style=\"text-align: right;\">\n",
       "      <th></th>\n",
       "      <th>data1</th>\n",
       "      <th>data2</th>\n",
       "    </tr>\n",
       "  </thead>\n",
       "  <tbody>\n",
       "    <tr>\n",
       "      <th>0</th>\n",
       "      <td>0.079743</td>\n",
       "      <td>0.481905</td>\n",
       "    </tr>\n",
       "    <tr>\n",
       "      <th>1</th>\n",
       "      <td>0.100109</td>\n",
       "      <td>0.463847</td>\n",
       "    </tr>\n",
       "    <tr>\n",
       "      <th>2</th>\n",
       "      <td>0.022330</td>\n",
       "      <td>0.507416</td>\n",
       "    </tr>\n",
       "    <tr>\n",
       "      <th>3</th>\n",
       "      <td>0.173128</td>\n",
       "      <td>0.633137</td>\n",
       "    </tr>\n",
       "    <tr>\n",
       "      <th>4</th>\n",
       "      <td>0.233838</td>\n",
       "      <td>0.687842</td>\n",
       "    </tr>\n",
       "    <tr>\n",
       "      <th>...</th>\n",
       "      <td>...</td>\n",
       "      <td>...</td>\n",
       "    </tr>\n",
       "    <tr>\n",
       "      <th>95</th>\n",
       "      <td>0.230918</td>\n",
       "      <td>0.718957</td>\n",
       "    </tr>\n",
       "    <tr>\n",
       "      <th>96</th>\n",
       "      <td>0.121328</td>\n",
       "      <td>0.784875</td>\n",
       "    </tr>\n",
       "    <tr>\n",
       "      <th>97</th>\n",
       "      <td>0.062475</td>\n",
       "      <td>0.746238</td>\n",
       "    </tr>\n",
       "    <tr>\n",
       "      <th>98</th>\n",
       "      <td>0.160504</td>\n",
       "      <td>0.820212</td>\n",
       "    </tr>\n",
       "    <tr>\n",
       "      <th>99</th>\n",
       "      <td>0.158931</td>\n",
       "      <td>0.756818</td>\n",
       "    </tr>\n",
       "  </tbody>\n",
       "</table>\n",
       "<p>100 rows × 2 columns</p>\n",
       "</div>"
      ],
      "text/plain": [
       "       data1     data2\n",
       "0   0.079743  0.481905\n",
       "1   0.100109  0.463847\n",
       "2   0.022330  0.507416\n",
       "3   0.173128  0.633137\n",
       "4   0.233838  0.687842\n",
       "..       ...       ...\n",
       "95  0.230918  0.718957\n",
       "96  0.121328  0.784875\n",
       "97  0.062475  0.746238\n",
       "98  0.160504  0.820212\n",
       "99  0.158931  0.756818\n",
       "\n",
       "[100 rows x 2 columns]"
      ]
     },
     "execution_count": 68,
     "metadata": {},
     "output_type": "execute_result"
    }
   ],
   "source": [
    "data = {'data1': data1, 'data2': data2}\n",
    "df = pd.DataFrame(data)\n",
    "df"
   ]
  },
  {
   "cell_type": "code",
   "execution_count": null,
   "id": "2825b8f0",
   "metadata": {},
   "outputs": [],
   "source": []
  }
 ],
 "metadata": {
  "kernelspec": {
   "display_name": "Python 3",
   "language": "python",
   "name": "python3"
  },
  "language_info": {
   "codemirror_mode": {
    "name": "ipython",
    "version": 3
   },
   "file_extension": ".py",
   "mimetype": "text/x-python",
   "name": "python",
   "nbconvert_exporter": "python",
   "pygments_lexer": "ipython3",
   "version": "3.9.6"
  }
 },
 "nbformat": 4,
 "nbformat_minor": 5
}
